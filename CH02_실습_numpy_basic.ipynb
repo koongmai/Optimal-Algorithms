{
  "cells": [
    {
      "cell_type": "markdown",
      "metadata": {
        "id": "view-in-github",
        "colab_type": "text"
      },
      "source": [
        "<a href=\"https://colab.research.google.com/github/koongmai/Optimal-Algorithms/blob/main/CH02_%EC%8B%A4%EC%8A%B5_numpy_basic.ipynb\" target=\"_parent\"><img src=\"https://colab.research.google.com/assets/colab-badge.svg\" alt=\"Open In Colab\"/></a>"
      ]
    },
    {
      "cell_type": "markdown",
      "source": [
        "# CH02 : 머신러닝을 위한 넘파이 라이브러리"
      ],
      "metadata": {
        "id": "54hC966Ekyxl"
      }
    },
    {
      "cell_type": "markdown",
      "metadata": {
        "id": "WTWk4mK6DB-X"
      },
      "source": [
        "### 1. 넘파이 라이브러리 불러오기"
      ]
    },
    {
      "cell_type": "markdown",
      "source": [
        "- Numpy 라이브러리는 머신러닝 관련 코드에서 많이 사용 되는(배열에 대한 다양한 수학 연산이 가능) 라이브러리이다.\n",
        "- 아래 사이트는 Numpy 공식 도큐먼트 사이트로 Numpy에 대해서 더 알고 싶다면 해당 사이트를 방문하여 확인할 수 있다.\n",
        "\n",
        "    [Numpy 공식 도큐먼트 사이트](https://numpy.org/doc/stable/user/absolute_beginners.html)\n"
      ],
      "metadata": {
        "id": "GE6wPGeR7Hyf"
      }
    },
    {
      "cell_type": "code",
      "execution_count": null,
      "metadata": {
        "id": "YJi5vN5XIfin"
      },
      "outputs": [],
      "source": [
        "# 넘파이 라이브러리를 np로 재정의하여 불러온다.\n",
        "import numpy as np"
      ]
    },
    {
      "cell_type": "markdown",
      "source": [
        "- \"print_obj\"는 출력하려는 객체(object) \"이름\"과 객체가 실제 저장하는 내용(값)을 출력하는 역할을 한다.\n",
        "    - cf. escape 이스케이프 코드 : \\n - 문자열 안에서 줄을 바꿀 때 사용\n",
        "    - cf. 포맷팅(Formatting) : 문자열안에 특정부분을 특정 변수의 위치로 정해줌으로써 해당 변수의 값에 따라 문자열 자체가 변경 될 수 있게 하는 기능"
      ],
      "metadata": {
        "id": "VNDApKuP7iac"
      }
    },
    {
      "cell_type": "code",
      "execution_count": null,
      "metadata": {
        "id": "LxystfffIfiw"
      },
      "outputs": [],
      "source": [
        "# 객체와 객체의 이름을 입력하면 출력해주는 함수를 정의한다.\n",
        "def print_obj(obj, name): #함수를 정의하겟다., 이 함수를 호출하면 그 함수의 내용이 실행됨.\n",
        "    print(\"%s:\\n%s\\n\" % (name, obj))"
      ]
    },
    {
      "cell_type": "markdown",
      "metadata": {
        "id": "mo5bS3L-Ifi0"
      },
      "source": [
        "### 2. 스칼라(Scalars), 벡터(Vectors), 행렬(Matrices)"
      ]
    },
    {
      "cell_type": "code",
      "execution_count": null,
      "metadata": {
        "id": "MNN0m8bnIfi3",
        "colab": {
          "base_uri": "https://localhost:8080/"
        },
        "outputId": "2b4e0a23-a4cd-48e9-97dd-bd71b2fe9856"
      },
      "outputs": [
        {
          "output_type": "stream",
          "name": "stdout",
          "text": [
            "스칼라:\n",
            "1.0\n",
            "\n",
            "벡터:\n",
            "[1. 2. 3.]\n",
            "\n",
            "행렬:\n",
            "[[1. 2. 3.]\n",
            " [4. 5. 6.]]\n",
            "\n"
          ]
        }
      ],
      "source": [
        "# 임의의 배열을 스칼라, 벡터, 행렬 형태로 정의한다.\n",
        "array0 = np.array(1.) # 0차원 배열, 스칼라\n",
        "array1 = np.array([1., 2., 3.]) # 1차원 배열, 벡터\n",
        "array2 = np.array([[1., 2., 3.], [4., 5., 6.]]) # 2차원 배열, 행렬\n",
        "\n",
        "# 앞서 정의한 print_obj 함수를 이용해 출력한다.\n",
        "print_obj(array0, \"스칼라\")\n",
        "print_obj(array1, \"벡터\")\n",
        "print_obj(array2, \"행렬\")"
      ]
    },
    {
      "cell_type": "code",
      "execution_count": null,
      "metadata": {
        "id": "d6kDQS8tIfi4",
        "colab": {
          "base_uri": "https://localhost:8080/"
        },
        "outputId": "79d47d2a-8199-44c7-f181-a65143b15130"
      },
      "outputs": [
        {
          "output_type": "stream",
          "name": "stdout",
          "text": [
            "스칼라의 차원:\n",
            "0\n",
            "\n",
            "벡터의 차원:\n",
            "1\n",
            "\n",
            "행렬의 차원:\n",
            "2\n",
            "\n"
          ]
        }
      ],
      "source": [
        "# 정의한 스칼라, 벡터, 행렬의 차원을 출력한다.\n",
        "print_obj(array0.ndim, \"스칼라의 차원\") # ndim → 차원의 크기 반환\n",
        "print_obj(array1.ndim, \"벡터의 차원\")\n",
        "print_obj(array2.ndim, \"행렬의 차원\")"
      ]
    },
    {
      "cell_type": "code",
      "execution_count": null,
      "metadata": {
        "id": "SjxBvxw6Ifi6",
        "colab": {
          "base_uri": "https://localhost:8080/"
        },
        "outputId": "524b4022-ad6e-42b7-ff93-93ed0b74b0de"
      },
      "outputs": [
        {
          "output_type": "stream",
          "name": "stdout",
          "text": [
            "array0의 shape:\n",
            "()\n",
            "\n",
            "array1의 shape:\n",
            "(3,)\n",
            "\n",
            "array2의 shape:\n",
            "(2, 3)\n",
            "\n",
            "array3의 shape:\n",
            "(1, 3)\n",
            "\n"
          ]
        }
      ],
      "source": [
        "# 정의한 스칼라, 벡터, 행렬의 shape를 출력한다.\n",
        "print_obj(array0.shape, \"array0의 shape\")\n",
        "print_obj(array1.shape, \"array1의 shape\")\n",
        "print_obj(array2.shape, \"array2의 shape\")\n",
        "array3 = np.array([[1, 2, 3]])\n",
        "print_obj(array3.shape, \"array3의 shape\")"
      ]
    },
    {
      "cell_type": "markdown",
      "metadata": {
        "id": "t5xSxIEfIfi7"
      },
      "source": [
        "### 3. 텐서(Tensors)"
      ]
    },
    {
      "cell_type": "code",
      "execution_count": null,
      "metadata": {
        "id": "tDZos0m6Ifi8",
        "colab": {
          "base_uri": "https://localhost:8080/"
        },
        "outputId": "8f0d2703-7e79-4196-cfd1-c4a65c7f63c5"
      },
      "outputs": [
        {
          "output_type": "stream",
          "name": "stdout",
          "text": [
            "tensor1:\n",
            "[[[ 1.  2.  3.]\n",
            "  [ 4.  5.  6.]]\n",
            "\n",
            " [[ 7.  8.  9.]\n",
            "  [10. 11. 12.]]]\n",
            "\n",
            "tensor1.ndim:\n",
            "3\n",
            "\n",
            "tensor1.shape:\n",
            "(2, 2, 3)\n",
            "\n",
            "tensor2:\n",
            "[[[[ 1.  2.  3.]\n",
            "   [ 1.  2.  3.]]\n",
            "\n",
            "  [[ 4.  5.  6.]\n",
            "   [ 4.  5.  6.]]]\n",
            "\n",
            "\n",
            " [[[ 7.  8.  9.]\n",
            "   [ 7.  8.  9.]]\n",
            "\n",
            "  [[10. 11. 12.]\n",
            "   [10. 11. 12.]]]]\n",
            "\n",
            "tensor2.ndim:\n",
            "4\n",
            "\n",
            "tensor2.shape:\n",
            "(2, 2, 2, 3)\n",
            "\n"
          ]
        }
      ],
      "source": [
        "# 3차원 이상 배열로 구성된 텐서의 차원과 shape를 출력한다.\n",
        "tensor1 = np.array([[[1., 2., 3.], [4., 5., 6.]], [[7., 8., 9.], [10., 11., 12.]]])\n",
        "tensor2 = np.array([[[[1., 2., 3.], [1., 2., 3.]], [[4., 5., 6.], [4., 5., 6.]]],\n",
        "                    [[[7., 8., 9.], [7., 8., 9.]], [[10., 11., 12.], [10., 11., 12.]]]])\n",
        "\n",
        "\n",
        "print_obj(tensor1, \"tensor1\")\n",
        "print_obj(tensor1.ndim, \"tensor1.ndim\")\n",
        "print_obj(tensor1.shape, \"tensor1.shape\")\n",
        "\n",
        "print_obj(tensor2, \"tensor2\")\n",
        "print_obj(tensor2.ndim, \"tensor2.ndim\")\n",
        "print_obj(tensor2.shape, \"tensor2.shape\")"
      ]
    },
    {
      "cell_type": "markdown",
      "metadata": {
        "id": "26Ci2uSxIfjB"
      },
      "source": [
        "### 4. 넘파이 배열(Numpy arrays)"
      ]
    },
    {
      "cell_type": "code",
      "execution_count": null,
      "metadata": {
        "id": "MyQEFi4YIfjB",
        "colab": {
          "base_uri": "https://localhost:8080/"
        },
        "outputId": "258a70c6-5171-47db-cb0b-1d26da1ddd3c"
      },
      "outputs": [
        {
          "output_type": "stream",
          "name": "stdout",
          "text": [
            "np.ones(10):\n",
            "[1. 1. 1. 1. 1. 1. 1. 1. 1. 1.]\n",
            "\n"
          ]
        }
      ],
      "source": [
        "# 원소가 1이고 크기가 10인 벡터를 넘파이 배열로 생성한다.\n",
        "ones = np.ones(10)\n",
        "print_obj(ones, \"np.ones(10)\")"
      ]
    },
    {
      "cell_type": "code",
      "execution_count": null,
      "metadata": {
        "id": "yr7sjCz-IfjD",
        "colab": {
          "base_uri": "https://localhost:8080/"
        },
        "outputId": "352f8e31-6511-4c42-a5a4-ed904122786e"
      },
      "outputs": [
        {
          "output_type": "stream",
          "name": "stdout",
          "text": [
            "np.zeros((2, 5)):\n",
            "[[0. 0. 0. 0. 0.]\n",
            " [0. 0. 0. 0. 0.]]\n",
            "\n"
          ]
        }
      ],
      "source": [
        "# 원소가 0이고 크기가 235인 행렬을 넘파이 배열로 생성한다.\n",
        "zeros = np.zeros((2, 5))\n",
        "print_obj(zeros, \"np.zeros((2, 5))\")"
      ]
    },
    {
      "cell_type": "code",
      "execution_count": null,
      "metadata": {
        "id": "OMTu-fXqIfjE",
        "colab": {
          "base_uri": "https://localhost:8080/"
        },
        "outputId": "fa9e1f65-bc7e-4fb0-acb7-fd6a98196b4c"
      },
      "outputs": [
        {
          "output_type": "stream",
          "name": "stdout",
          "text": [
            "np.full((2, 5), 5):\n",
            "[[5 5 5 5 5]\n",
            " [5 5 5 5 5]]\n",
            "\n",
            "np.full((1, 1, 1), -1):\n",
            "[[[-1]]]\n",
            "\n"
          ]
        }
      ],
      "source": [
        "# 파라미터에 배열의 크기와 값을 입력한다.\n",
        "# 입력된 크기만큼의 배열을 만들고 입력한 값으로 배열을 채운다.\n",
        "full = np.full((2, 5), 5)\n",
        "print_obj(full, \"np.full((2, 5), 5)\")\n",
        "\n",
        "full2 = np.full((1, 1, 1), -1)\n",
        "print_obj(full2, \"np.full((1, 1, 1), -1)\")"
      ]
    },
    {
      "cell_type": "code",
      "execution_count": null,
      "metadata": {
        "id": "i0wjugbrIfjI",
        "colab": {
          "base_uri": "https://localhost:8080/"
        },
        "outputId": "2dc82065-8f9d-44ac-b000-e2f0972a9052"
      },
      "outputs": [
        {
          "output_type": "stream",
          "name": "stdout",
          "text": [
            "np.random.random((2, 3, 4)):\n",
            "[[[0.69881615 0.44935173 0.09353458 0.05556524]\n",
            "  [0.93799628 0.10206528 0.16754857 0.71706663]\n",
            "  [0.92662971 0.37599751 0.65880275 0.25506203]]\n",
            "\n",
            " [[0.29377974 0.06485298 0.71047958 0.85469467]\n",
            "  [0.2913893  0.73172962 0.54950003 0.97163931]\n",
            "  [0.19022277 0.14998322 0.13682572 0.64788167]]]\n",
            "\n"
          ]
        }
      ],
      "source": [
        "random = np.random.random((2, 3, 4))\n",
        "print_obj(random, \"np.random.random((2, 3, 4))\")"
      ]
    },
    {
      "cell_type": "code",
      "execution_count": null,
      "metadata": {
        "id": "PgjwTCgXIfjJ",
        "colab": {
          "base_uri": "https://localhost:8080/"
        },
        "outputId": "bce87247-af7d-4238-d39e-5f5496ff5eb2"
      },
      "outputs": [
        {
          "output_type": "stream",
          "name": "stdout",
          "text": [
            "np.arange(10):\n",
            "[0 1 2 3 4 5 6 7 8 9]\n",
            "\n"
          ]
        }
      ],
      "source": [
        "arange = np.arange(10)\n",
        "print_obj(arange, \"np.arange(10)\")"
      ]
    },
    {
      "cell_type": "code",
      "execution_count": null,
      "metadata": {
        "id": "JQn5obXxIfjK",
        "colab": {
          "base_uri": "https://localhost:8080/"
        },
        "outputId": "cce07767-49f3-4db2-80d4-c8859fdc485e"
      },
      "outputs": [
        {
          "output_type": "stream",
          "name": "stdout",
          "text": [
            "np.arange(10).astype(float):\n",
            "[0. 1. 2. 3. 4. 5. 6. 7. 8. 9.]\n",
            "\n"
          ]
        }
      ],
      "source": [
        "astype = np.arange(10).astype(float)\n",
        "print_obj(astype, \"np.arange(10).astype(float)\")"
      ]
    },
    {
      "cell_type": "code",
      "execution_count": null,
      "metadata": {
        "id": "0VOKJfWpIfjK",
        "colab": {
          "base_uri": "https://localhost:8080/"
        },
        "outputId": "23411967-9da2-45ed-d2cb-7ce1641a87a6"
      },
      "outputs": [
        {
          "output_type": "stream",
          "name": "stdout",
          "text": [
            "np.arange(10).reshape((5,2):\n",
            "[[0 1]\n",
            " [2 3]\n",
            " [4 5]\n",
            " [6 7]\n",
            " [8 9]]\n",
            "\n"
          ]
        }
      ],
      "source": [
        "reshape = np.arange(10).reshape((5,2))\n",
        "print_obj(reshape, \"np.arange(10).reshape((5,2)\")"
      ]
    },
    {
      "cell_type": "markdown",
      "metadata": {
        "id": "pM9RkBE1IfjL"
      },
      "source": [
        "### 5. 인덱스와 슬라이싱"
      ]
    },
    {
      "cell_type": "code",
      "execution_count": null,
      "metadata": {
        "id": "oMuj9a39IfjM",
        "colab": {
          "base_uri": "https://localhost:8080/"
        },
        "outputId": "13fca15d-a62c-45a8-c913-18c711d8a0da"
      },
      "outputs": [
        {
          "output_type": "stream",
          "name": "stdout",
          "text": [
            "np.arange(10):\n",
            "[0 1 2 3 4 5 6 7 8 9]\n",
            "\n",
            "array_index[0]:\n",
            "0\n",
            "\n",
            "array_index[1]:\n",
            "1\n",
            "\n",
            "array_index[-1]:\n",
            "9\n",
            "\n",
            "array_index[-3]:\n",
            "7\n",
            "\n",
            "array_index[0:10]:\n",
            "[0 1 2 3 4 5 6 7 8 9]\n",
            "\n",
            "array_index[0:]:\n",
            "[0 1 2 3 4 5 6 7 8 9]\n",
            "\n",
            "array_index[:]:\n",
            "[0 1 2 3 4 5 6 7 8 9]\n",
            "\n",
            "array_index[:10]:\n",
            "[0 1 2 3 4 5 6 7 8 9]\n",
            "\n",
            "array_index[7:]:\n",
            "[7 8 9]\n",
            "\n",
            "array_index[:5]:\n",
            "[0 1 2 3 4]\n",
            "\n",
            "array_index[2:5]:\n",
            "[2 3 4]\n",
            "\n",
            "array_index[0:10:2]:\n",
            "[0 2 4 6 8]\n",
            "\n",
            "array_index[0:10:3]:\n",
            "[0 3 6 9]\n",
            "\n",
            "array_index[2:6:3]:\n",
            "[2 5]\n",
            "\n",
            "array_index[::-1]:\n",
            "[9 8 7 6 5 4 3 2 1 0]\n",
            "\n",
            "array_index[8:5:-1]:\n",
            "[8 7 6]\n",
            "\n",
            "array_index[8:5]:\n",
            "[]\n",
            "\n"
          ]
        }
      ],
      "source": [
        "# 인덱스는 목차, 순서, 색인 등 몇 번째인지 순서를 의미한다.\n",
        "# 배열에 있는 데이터는 인덱스를 통해서 접근이 가능하다.\n",
        "# 일반적으로 0 이상의 인덱스는 앞에서부터의 접근이고, 0 이하의 인덱스는 뒤에서부터의 접근이다.\n",
        "array_index = np.arange(10)\n",
        "print_obj(array_index, \"np.arange(10)\")\n",
        "print_obj(array_index[0], \"array_index[0]\")\n",
        "print_obj(array_index[1], \"array_index[1]\")\n",
        "print_obj(array_index[-1], \"array_index[-1]\")\n",
        "print_obj(array_index[-3], \"array_index[-3]\")\n",
        "\n",
        "# 콜론(:)을 통해서 범위 형태의 인덱스를 지정할 수 있다.\n",
        "# 일반적으로 콜론 앞뒤의 인덱스 범위 내의 데이터 전체에 접근한다.\n",
        "print_obj(array_index[0:10], \"array_index[0:10]\")\n",
        "print_obj(array_index[0:], \"array_index[0:]\")\n",
        "print_obj(array_index[:],\"array_index[:]\")\n",
        "print_obj(array_index[:10], \"array_index[:10]\")\n",
        "print_obj(array_index[7:], \"array_index[7:]\")\n",
        "print_obj(array_index[:5], \"array_index[:5]\")\n",
        "print_obj(array_index[2:5], \"array_index[2:5]\")\n",
        "\n",
        "# 하나의 인덱스에 두 개의 콜론(:)이 사용된다면, 마지막 콜론 뒤의 숫자는 스텝을 의미한다.\n",
        "# 스텝은 인덱싱 범위 내에서 얼마만큼 건너뛰며 데이터에 접근할 것인지를 의미한다.\n",
        "print_obj(array_index[0:10:2], \"array_index[0:10:2]\")\n",
        "print_obj(array_index[0:10:3], \"array_index[0:10:3]\")\n",
        "print_obj(array_index[2:6:3], \"array_index[2:6:3]\")\n",
        "print_obj(array_index[::-1], \"array_index[::-1]\")\n",
        "print_obj(array_index[8:5:-1], \"array_index[8:5:-1]\")\n",
        "print_obj(array_index[8:5], \"array_index[8:5]\")"
      ]
    },
    {
      "cell_type": "code",
      "execution_count": null,
      "metadata": {
        "id": "xu7grp2mIfjO",
        "colab": {
          "base_uri": "https://localhost:8080/"
        },
        "outputId": "314f29a8-4888-48d5-807e-01171ee131e8"
      },
      "outputs": [
        {
          "output_type": "stream",
          "name": "stdout",
          "text": [
            "array_index:\n",
            "[[0 1 2]\n",
            " [3 4 5]\n",
            " [6 7 8]]\n",
            "\n",
            "array_index[0][0]:\n",
            "0\n",
            "\n",
            "array_index[0,0]:\n",
            "0\n",
            "\n",
            "array_index[1,1]:\n",
            "4\n",
            "\n",
            "array_index:\n",
            "[[[ 0  1]\n",
            "  [ 2  3]\n",
            "  [ 4  5]]\n",
            "\n",
            " [[ 6  7]\n",
            "  [ 8  9]\n",
            "  [10 11]]\n",
            "\n",
            " [[12 13]\n",
            "  [14 15]\n",
            "  [16 17]]\n",
            "\n",
            " [[18 19]\n",
            "  [20 21]\n",
            "  [22 23]]]\n",
            "\n",
            "array_index[2, 1, 0]:\n",
            "14\n",
            "\n"
          ]
        }
      ],
      "source": [
        "array_index = np.arange(9).reshape((3,3))\n",
        "print_obj(array_index, \"array_index\")\n",
        "print_obj(array_index[0][0], \"array_index[0][0]\")\n",
        "print_obj(array_index[0,0], \"array_index[0,0]\")\n",
        "print_obj(array_index[1,1], \"array_index[1,1]\")\n",
        "\n",
        "array_index = np.arange(4*3*2).reshape((4, 3, 2))\n",
        "print_obj(array_index, \"array_index\")\n",
        "print_obj(array_index[2, 1, 0], \"array_index[2, 1, 0]\")"
      ]
    },
    {
      "cell_type": "code",
      "execution_count": null,
      "metadata": {
        "id": "Gqz5VjJoIfjX",
        "colab": {
          "base_uri": "https://localhost:8080/"
        },
        "outputId": "01a2f4b4-3cd9-4801-af5c-e7abb6bb5f99"
      },
      "outputs": [
        {
          "output_type": "stream",
          "name": "stdout",
          "text": [
            "array_index:\n",
            "[[ 0  1  2  3]\n",
            " [ 4  5  6  7]\n",
            " [ 8  9 10 11]\n",
            " [12 13 14 15]\n",
            " [16 17 18 19]\n",
            " [20 21 22 23]]\n",
            "\n",
            "array_index[idx]:\n",
            "[[ 0  2  3]\n",
            " [ 4  6  7]\n",
            " [ 8 10 11]\n",
            " [12 14 15]\n",
            " [16 18 19]\n",
            " [20 22 23]]\n",
            "\n",
            "array_index[idx]:\n",
            "[[ 0  1  2  3]\n",
            " [ 8  9 10 11]\n",
            " [12 13 14 15]]\n",
            "\n"
          ]
        }
      ],
      "source": [
        "array_index = np.arange(24).reshape((6, 4))\n",
        "print_obj(array_index, \"array_index\")\n",
        "print_obj(array_index[:,[0, 2, 3]], \"array_index[idx]\")\n",
        "print_obj(array_index[[0, 2, 3], :], \"array_index[idx]\")"
      ]
    },
    {
      "cell_type": "markdown",
      "metadata": {
        "id": "e0tGjyn6IfjY"
      },
      "source": [
        "### 6. 수학적 연산 (Math Operations)"
      ]
    },
    {
      "cell_type": "code",
      "execution_count": null,
      "metadata": {
        "id": "JVn_sZg9IfjY",
        "colab": {
          "base_uri": "https://localhost:8080/"
        },
        "outputId": "9951f463-22f1-4d0f-e659-af423e84d907"
      },
      "outputs": [
        {
          "output_type": "stream",
          "name": "stdout",
          "text": [
            "mat1:\n",
            "[[0 1]\n",
            " [2 3]\n",
            " [4 5]]\n",
            "\n",
            "mat2:\n",
            "[[1. 1.]\n",
            " [1. 1.]\n",
            " [1. 1.]]\n",
            "\n",
            "mat1 + mat2:\n",
            "[[1. 2.]\n",
            " [3. 4.]\n",
            " [5. 6.]]\n",
            "\n",
            "mat1 - mat2:\n",
            "[[-1.  0.]\n",
            " [ 1.  2.]\n",
            " [ 3.  4.]]\n",
            "\n",
            "mat1 * mat2:\n",
            "[[0. 1.]\n",
            " [2. 3.]\n",
            " [4. 5.]]\n",
            "\n",
            "mat1 / mat2:\n",
            "[[0. 1.]\n",
            " [2. 3.]\n",
            " [4. 5.]]\n",
            "\n"
          ]
        }
      ],
      "source": [
        "mat1 = np.arange(6).reshape((3, 2))\n",
        "mat2 = np.ones((3, 2))\n",
        "print_obj(mat1, \"mat1\")\n",
        "print_obj(mat2, \"mat2\")\n",
        "print_obj(mat1 + mat2, \"mat1 + mat2\")\n",
        "print_obj(mat1 - mat2, \"mat1 - mat2\")\n",
        "print_obj(mat1 * mat2, \"mat1 * mat2\")\n",
        "print_obj(mat1 / mat2, \"mat1 / mat2\")"
      ]
    },
    {
      "cell_type": "code",
      "execution_count": null,
      "metadata": {
        "id": "8rcxDE-yIfjZ",
        "colab": {
          "base_uri": "https://localhost:8080/"
        },
        "outputId": "9c75b010-952a-4b0a-f17c-3db266ca40d1"
      },
      "outputs": [
        {
          "output_type": "stream",
          "name": "stdout",
          "text": [
            "mat:\n",
            "[[0 1]\n",
            " [2 3]\n",
            " [4 5]]\n",
            "\n",
            "mat.sum():\n",
            "15\n",
            "\n",
            "mat.sum(axis = 0):\n",
            "[6 9]\n",
            "\n",
            "mat.sum(axis = 1):\n",
            "[1 5 9]\n",
            "\n",
            "mat.mean():\n",
            "2.5\n",
            "\n",
            "mat.max():\n",
            "5\n",
            "\n",
            "mat.min():\n",
            "0\n",
            "\n"
          ]
        }
      ],
      "source": [
        "mat = np.arange(6).reshape((3, 2))\n",
        "print_obj(mat, \"mat\")\n",
        "print_obj(mat.sum(), \"mat.sum()\")\n",
        "print_obj(mat.sum(axis = 0), \"mat.sum(axis = 0)\") # axis는 축을 의미\n",
        "print_obj(mat.sum(axis = 1), \"mat.sum(axis = 1)\")\n",
        "print_obj(mat.mean(), \"mat.mean()\")\n",
        "print_obj(mat.max(), \"mat.max()\")\n",
        "print_obj(mat.min(), \"mat.min()\")"
      ]
    },
    {
      "cell_type": "code",
      "execution_count": null,
      "metadata": {
        "id": "7_bAba33Ifja",
        "colab": {
          "base_uri": "https://localhost:8080/"
        },
        "outputId": "4a514905-4251-4575-b34b-5553957ecf53"
      },
      "outputs": [
        {
          "output_type": "stream",
          "name": "stdout",
          "text": [
            "mat1:\n",
            "[0. 1. 2.]\n",
            "\n",
            "mat2:\n",
            "[1. 1. 1.]\n",
            "\n",
            "mat1 dot mat2:\n",
            "3.0\n",
            "\n"
          ]
        }
      ],
      "source": [
        "mat1 = np.arange(3).astype('float')\n",
        "mat2 = np.ones(3)\n",
        "print_obj(mat1, \"mat1\")\n",
        "print_obj(mat2, \"mat2\")\n",
        "print_obj(np.dot(mat1, mat2), \"mat1 dot mat2\")"
      ]
    },
    {
      "cell_type": "code",
      "execution_count": null,
      "metadata": {
        "id": "f9Z3MGTwIfjc",
        "colab": {
          "base_uri": "https://localhost:8080/"
        },
        "outputId": "feeefcf1-77e0-40f7-9ae8-c01c94807d76"
      },
      "outputs": [
        {
          "output_type": "stream",
          "name": "stdout",
          "text": [
            "mat1:\n",
            "[[0 1]\n",
            " [2 3]\n",
            " [4 5]]\n",
            "\n",
            "mat2:\n",
            "[[1. 1. 1.]\n",
            " [1. 1. 1.]]\n",
            "\n",
            "mat1 dot mat2:\n",
            "[[1. 1. 1.]\n",
            " [5. 5. 5.]\n",
            " [9. 9. 9.]]\n",
            "\n",
            "mat1 @ mat2:\n",
            "[[1. 1. 1.]\n",
            " [5. 5. 5.]\n",
            " [9. 9. 9.]]\n",
            "\n",
            "matmul(mat1, mat2):\n",
            "[[1. 1. 1.]\n",
            " [5. 5. 5.]\n",
            " [9. 9. 9.]]\n",
            "\n",
            "mat3:\n",
            "[[[ 0  1]\n",
            "  [ 2  3]\n",
            "  [ 4  5]]\n",
            "\n",
            " [[ 6  7]\n",
            "  [ 8  9]\n",
            "  [10 11]]\n",
            "\n",
            " [[12 13]\n",
            "  [14 15]\n",
            "  [16 17]]\n",
            "\n",
            " [[18 19]\n",
            "  [20 21]\n",
            "  [22 23]]]\n",
            "\n",
            "mat4:\n",
            "[[[1. 1. 1.]\n",
            "  [1. 1. 1.]]\n",
            "\n",
            " [[1. 1. 1.]\n",
            "  [1. 1. 1.]]\n",
            "\n",
            " [[1. 1. 1.]\n",
            "  [1. 1. 1.]]\n",
            "\n",
            " [[1. 1. 1.]\n",
            "  [1. 1. 1.]]]\n",
            "\n",
            "mat3 dot mat4:\n",
            "(4, 3, 4, 3)\n",
            "\n",
            "mat3 @ mat4:\n",
            "(4, 3, 3)\n",
            "\n",
            "matmul(mat3, mat4):\n",
            "(4, 3, 3)\n",
            "\n"
          ]
        }
      ],
      "source": [
        "mat1 = np.arange(6).reshape((3, 2))\n",
        "mat2 = np.ones((2, 3))\n",
        "print_obj(mat1, \"mat1\")\n",
        "print_obj(mat2, \"mat2\")\n",
        "print_obj(np.dot(mat1, mat2), \"mat1 dot mat2\")\n",
        "print_obj(mat1 @ mat2, \"mat1 @ mat2\")\n",
        "print_obj(np.matmul(mat1, mat2), \"matmul(mat1, mat2)\")\n",
        "\n",
        "mat3 = np.arange(24).reshape((4, 3, 2))\n",
        "mat4 = np.ones((4, 2, 3))\n",
        "print_obj(mat3, \"mat3\")\n",
        "print_obj(mat4, \"mat4\")\n",
        "print_obj(np.dot(mat3, mat4).shape, \"mat3 dot mat4\")\n",
        "print_obj((mat3 @ mat4).shape, \"mat3 @ mat4\")\n",
        "print_obj(np.matmul(mat3, mat4).shape, \"matmul(mat3, mat4)\")"
      ]
    },
    {
      "cell_type": "markdown",
      "metadata": {
        "id": "fo-pQzdKIfji"
      },
      "source": [
        "### 7. 형태 변형 (Shape Manipulation)"
      ]
    },
    {
      "cell_type": "code",
      "execution_count": null,
      "metadata": {
        "id": "7fwkWGAnIfjk",
        "colab": {
          "base_uri": "https://localhost:8080/"
        },
        "outputId": "fff6eae2-d6a0-44ab-acd7-41270d694fe8"
      },
      "outputs": [
        {
          "output_type": "stream",
          "name": "stdout",
          "text": [
            "np.arange(24).reshape((2, 3, 4)):\n",
            "[[[ 0  1  2  3]\n",
            "  [ 4  5  6  7]\n",
            "  [ 8  9 10 11]]\n",
            "\n",
            " [[12 13 14 15]\n",
            "  [16 17 18 19]\n",
            "  [20 21 22 23]]]\n",
            "\n",
            "array1.reshape((6, 4)):\n",
            "[[ 0  1  2  3]\n",
            " [ 4  5  6  7]\n",
            " [ 8  9 10 11]\n",
            " [12 13 14 15]\n",
            " [16 17 18 19]\n",
            " [20 21 22 23]]\n",
            "\n",
            "array1.reshape((6, -1)):\n",
            "[[ 0  1  2  3]\n",
            " [ 4  5  6  7]\n",
            " [ 8  9 10 11]\n",
            " [12 13 14 15]\n",
            " [16 17 18 19]\n",
            " [20 21 22 23]]\n",
            "\n",
            "array1.reshape((-1, 6)):\n",
            "[[ 0  1  2  3  4  5]\n",
            " [ 6  7  8  9 10 11]\n",
            " [12 13 14 15 16 17]\n",
            " [18 19 20 21 22 23]]\n",
            "\n"
          ]
        }
      ],
      "source": [
        "array1 = np.arange(24).reshape((2, 3, 4))\n",
        "print_obj(array1, \"np.arange(24).reshape((2, 3, 4))\")\n",
        "array2 = array1.reshape((6, 4))\n",
        "print_obj(array2, \"array1.reshape((6, 4))\")\n",
        "array3 = array1.reshape((6, -1))\n",
        "print_obj(array3, \"array1.reshape((6, -1))\")\n",
        "array4 = array1.reshape((-1, 6))\n",
        "print_obj(array4, \"array1.reshape((-1, 6))\")"
      ]
    },
    {
      "cell_type": "code",
      "execution_count": null,
      "metadata": {
        "id": "EifbhhXJIfjl",
        "colab": {
          "base_uri": "https://localhost:8080/"
        },
        "outputId": "4efae75b-ce73-48ca-b529-c88a9b1ee718"
      },
      "outputs": [
        {
          "output_type": "stream",
          "name": "stdout",
          "text": [
            "array:\n",
            "[0 1 2]\n",
            "\n",
            "array[:, None]:\n",
            "[[0]\n",
            " [1]\n",
            " [2]]\n",
            "\n"
          ]
        }
      ],
      "source": [
        "array = np.arange(3)\n",
        "print_obj(array, \"array\")\n",
        "print_obj(array[:, None], \"array[:, None]\")"
      ]
    },
    {
      "cell_type": "code",
      "execution_count": null,
      "metadata": {
        "id": "8YlI8F3dIfjn",
        "colab": {
          "base_uri": "https://localhost:8080/"
        },
        "outputId": "24d05d0a-8a02-4af6-9f8c-11c8d5930550"
      },
      "outputs": [
        {
          "output_type": "stream",
          "name": "stdout",
          "text": [
            "array1:\n",
            "[[1. 1.]\n",
            " [1. 1.]\n",
            " [1. 1.]]\n",
            "\n",
            "array2:\n",
            "[[0. 0.]\n",
            " [0. 0.]\n",
            " [0. 0.]]\n",
            "\n",
            "array1 + 2 vstack:\n",
            "[[1. 1.]\n",
            " [1. 1.]\n",
            " [1. 1.]\n",
            " [0. 0.]\n",
            " [0. 0.]\n",
            " [0. 0.]]\n",
            "\n",
            "array1 + 2 hstack:\n",
            "[[1. 1. 0. 0.]\n",
            " [1. 1. 0. 0.]\n",
            " [1. 1. 0. 0.]]\n",
            "\n",
            "array1 + 2 + 1 hstack:\n",
            "[[1. 1. 0. 0. 1. 1.]\n",
            " [1. 1. 0. 0. 1. 1.]\n",
            " [1. 1. 0. 0. 1. 1.]]\n",
            "\n",
            "array1 + 2 concat axis = 0:\n",
            "[[1. 1.]\n",
            " [1. 1.]\n",
            " [1. 1.]\n",
            " [0. 0.]\n",
            " [0. 0.]\n",
            " [0. 0.]]\n",
            "\n",
            "array1 + 2 concat axis = 1:\n",
            "[[1. 1. 0. 0.]\n",
            " [1. 1. 0. 0.]\n",
            " [1. 1. 0. 0.]]\n",
            "\n"
          ]
        }
      ],
      "source": [
        "array1 = np.ones((3, 2))\n",
        "array2 = np.zeros((3, 2))\n",
        "print_obj(array1, \"array1\")\n",
        "print_obj(array2, \"array2\")\n",
        "\n",
        "print_obj(np.vstack([array1, array2]), \"array1 + 2 vstack\")\n",
        "print_obj(np.hstack([array1, array2]), \"array1 + 2 hstack\")\n",
        "print_obj(np.hstack([array1, array2, array1]), \"array1 + 2 + 1 hstack\")\n",
        "\n",
        "print_obj(np.concatenate([array1, array2], axis = 0), \"array1 + 2 concat axis = 0\")\n",
        "print_obj(np.concatenate([array1, array2], axis = 1), \"array1 + 2 concat axis = 1\")"
      ]
    },
    {
      "cell_type": "code",
      "execution_count": null,
      "metadata": {
        "id": "HrzX8t3NIfjo",
        "colab": {
          "base_uri": "https://localhost:8080/"
        },
        "outputId": "5052eca2-afe9-41d1-a679-a6ea94afbf1c"
      },
      "outputs": [
        {
          "output_type": "stream",
          "name": "stdout",
          "text": [
            "array:\n",
            "[[0 1]\n",
            " [2 3]\n",
            " [4 5]]\n",
            "\n",
            "array.T:\n",
            "[[0 2 4]\n",
            " [1 3 5]]\n",
            "\n",
            "array1:\n",
            "[[[ 0  1]\n",
            "  [ 2  3]\n",
            "  [ 4  5]]\n",
            "\n",
            " [[ 6  7]\n",
            "  [ 8  9]\n",
            "  [10 11]]\n",
            "\n",
            " [[12 13]\n",
            "  [14 15]\n",
            "  [16 17]]\n",
            "\n",
            " [[18 19]\n",
            "  [20 21]\n",
            "  [22 23]]]\n",
            "\n",
            "Swap axis 1 and 2:\n",
            "[[[ 0  2  4]\n",
            "  [ 1  3  5]]\n",
            "\n",
            " [[ 6  8 10]\n",
            "  [ 7  9 11]]\n",
            "\n",
            " [[12 14 16]\n",
            "  [13 15 17]]\n",
            "\n",
            " [[18 20 22]\n",
            "  [19 21 23]]]\n",
            "\n",
            "Swapped shape:\n",
            "(4, 2, 3)\n",
            "\n",
            "Swap axis 0 and 1:\n",
            "[[[ 0  1]\n",
            "  [ 6  7]\n",
            "  [12 13]\n",
            "  [18 19]]\n",
            "\n",
            " [[ 2  3]\n",
            "  [ 8  9]\n",
            "  [14 15]\n",
            "  [20 21]]\n",
            "\n",
            " [[ 4  5]\n",
            "  [10 11]\n",
            "  [16 17]\n",
            "  [22 23]]]\n",
            "\n",
            "Swapped shape:\n",
            "(3, 4, 2)\n",
            "\n"
          ]
        }
      ],
      "source": [
        "array = np.arange(6).reshape((3, 2))\n",
        "print_obj(array, \"array\")\n",
        "print_obj(array.T, \"array.T\")\n",
        "\n",
        "array1 = np.arange(24).reshape((4, 3, 2))\n",
        "print_obj(array1, \"array1\")\n",
        "array2 = np.transpose(array1, [0, 2, 1])\n",
        "print_obj(array2, \"Swap axis 1 and 2\")\n",
        "print_obj(array2.shape, \"Swapped shape\")\n",
        "array3 = np.transpose(array1, [1, 0, 2])\n",
        "print_obj(array3, \"Swap axis 0 and 1\")\n",
        "print_obj(array3.shape, \"Swapped shape\")"
      ]
    },
    {
      "cell_type": "markdown",
      "metadata": {
        "id": "vQUfAz_oIfjs"
      },
      "source": [
        "### 8. 브로드캐스팅(Broadcasting)"
      ]
    },
    {
      "cell_type": "code",
      "execution_count": null,
      "metadata": {
        "id": "Gb0L1o-hIfjt",
        "colab": {
          "base_uri": "https://localhost:8080/"
        },
        "outputId": "bd2c27b8-3e81-4c75-f3de-77847ce844a6"
      },
      "outputs": [
        {
          "output_type": "stream",
          "name": "stdout",
          "text": [
            "vector:\n",
            "[0 1 2]\n",
            "\n",
            "scalar:\n",
            "2.0\n",
            "\n",
            "vector + scalar:\n",
            "[2. 3. 4.]\n",
            "\n",
            "vector - scalar:\n",
            "[-2. -1.  0.]\n",
            "\n",
            "vector * scalar:\n",
            "[0. 2. 4.]\n",
            "\n",
            "vector / scalar:\n",
            "[0.  0.5 1. ]\n",
            "\n"
          ]
        }
      ],
      "source": [
        "vector = np.arange(3)\n",
        "scalar = 2.\n",
        "print_obj(vector, \"vector\")\n",
        "print_obj(scalar, \"scalar\")\n",
        "print_obj(vector+scalar, \"vector + scalar\")\n",
        "print_obj(vector-scalar, \"vector - scalar\")\n",
        "print_obj(vector*scalar, \"vector * scalar\")\n",
        "print_obj(vector/scalar, \"vector / scalar\")"
      ]
    },
    {
      "cell_type": "code",
      "execution_count": null,
      "metadata": {
        "id": "0rISYPVnIfjv",
        "colab": {
          "base_uri": "https://localhost:8080/"
        },
        "outputId": "c75e703d-3a71-4603-9c7e-097deb2ba5e3"
      },
      "outputs": [
        {
          "output_type": "stream",
          "name": "stdout",
          "text": [
            "mat1:\n",
            "[[0 1]\n",
            " [2 3]\n",
            " [4 5]]\n",
            "\n",
            "mat2:\n",
            "[1 2]\n",
            "\n",
            "mat1 + mat2:\n",
            "[[1 3]\n",
            " [3 5]\n",
            " [5 7]]\n",
            "\n",
            "mat3:\n",
            "[[[ 0  1]\n",
            "  [ 2  3]\n",
            "  [ 4  5]]\n",
            "\n",
            " [[ 6  7]\n",
            "  [ 8  9]\n",
            "  [10 11]]]\n",
            "\n",
            "mat4:\n",
            "[[0 1]\n",
            " [2 3]\n",
            " [4 5]]\n",
            "\n",
            "mat3 + mat4:\n",
            "[[[ 0  2]\n",
            "  [ 4  6]\n",
            "  [ 8 10]]\n",
            "\n",
            " [[ 6  8]\n",
            "  [10 12]\n",
            "  [14 16]]]\n",
            "\n"
          ]
        }
      ],
      "source": [
        "mat1 = np.arange(6).reshape((3, 2))\n",
        "mat2 = np.arange(2).reshape(2) + 1\n",
        "print_obj(mat1, \"mat1\")\n",
        "print_obj(mat2, \"mat2\")\n",
        "print_obj(mat1 + mat2, \"mat1 + mat2\")\n",
        "\n",
        "mat3 = np.arange(12).reshape((2, 3, 2))\n",
        "mat4 = np.arange(6).reshape((3, 2))\n",
        "print_obj(mat3, \"mat3\")\n",
        "print_obj(mat4, \"mat4\")\n",
        "print_obj(mat3 + mat4, \"mat3 + mat4\")"
      ]
    }
  ],
  "metadata": {
    "kernelspec": {
      "display_name": "Python 3",
      "language": "python",
      "name": "python3"
    },
    "language_info": {
      "codemirror_mode": {
        "name": "ipython",
        "version": 3
      },
      "file_extension": ".py",
      "mimetype": "text/x-python",
      "name": "python",
      "nbconvert_exporter": "python",
      "pygments_lexer": "ipython3",
      "version": "3.7.6"
    },
    "colab": {
      "provenance": [],
      "toc_visible": true,
      "include_colab_link": true
    },
    "gpuClass": "standard"
  },
  "nbformat": 4,
  "nbformat_minor": 0
}